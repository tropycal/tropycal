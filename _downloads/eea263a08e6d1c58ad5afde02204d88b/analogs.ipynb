{
  "cells": [
    {
      "cell_type": "markdown",
      "metadata": {},
      "source": [
        "\n# Historical TC Track Analogs\nThis sample script shows how to use Tropycal to retrieve and plot historical tropical cyclone track analogs.\n"
      ]
    },
    {
      "cell_type": "code",
      "execution_count": null,
      "metadata": {
        "collapsed": false
      },
      "outputs": [],
      "source": [
        "from tropycal import tracks"
      ]
    },
    {
      "cell_type": "markdown",
      "metadata": {},
      "source": [
        "## Reading In HURTDAT2 Dataset\n\nLet's start with the HURDAT2 dataset by loading it into memory. By default, this reads in the HURDAT dataset from the National Hurricane Center (NHC) website, unless you specify a local file path using either ``atlantic_url`` for the North Atlantic basin on ``pacific_url`` for the East & Central Pacific basin.\n\nHURDAT data is not available for the current year. To include the latest data up through today, the \"include_btk\" flag needs to be set to True, which reads in preliminary best track data from the NHC website. For this example, we'll set this to False.\n\nLet's create an instance of a TrackDataset object, which will store the North Atlantic HURDAT2 dataset in memory. Once we have this we can use its methods for various types of analyses.\n\n"
      ]
    },
    {
      "cell_type": "code",
      "execution_count": null,
      "metadata": {
        "collapsed": false
      },
      "outputs": [],
      "source": [
        "basin = tracks.TrackDataset(basin='north_atlantic',include_btk=False)"
      ]
    },
    {
      "cell_type": "markdown",
      "metadata": {},
      "source": [
        "## Historical Tropical Cyclone Analogs\n\nOne popular tool for finding historical tropical cyclone track analogs is via NOAA: https://coast.noaa.gov/hurricanes/#map=4/32/-80\n\nTropycal now has similar functionality, with 4 new analog functions added to `TrackDataset`:\n\n- ``basin.analogs_from_point()`` - Retrieve storms within a radius of a point and their closest approach to the point\n- ``basin.analogs_from_shape()`` - Retrieve storms within a bounded shape provided by a list of lat/lon coordinates\n- ``basin.plot_analogs_from_point()`` - Plot output from analog_from_point()\n- ``basin.plot_analogs_from_shape()`` - Plot output from analog_from_shape()\n\nLet's start out with `analogs_from_point` by looking at all tropical cyclone tracks within 50 kilometers of NYC. For this sample script we'll use kilometers, but if you want to use miles, add a ``units='miles'`` argument.\n\nNote that the first time you run an analog function, if storms in `basin` haven't been interpolated to hourly yet, this will automatically perform that interpolation on the back end, and future calls within the same kernel won't need to re-interpolate making them much faster.\n\n"
      ]
    },
    {
      "cell_type": "code",
      "execution_count": null,
      "metadata": {
        "collapsed": false
      },
      "outputs": [],
      "source": [
        "basin.analogs_from_point((40.7,-74.0),radius=50)"
      ]
    },
    {
      "cell_type": "markdown",
      "metadata": {},
      "source": [
        "The output from this function is a dictionary, with the **key** the storm ID and **value** the distance from the point in kilometers.\n\nThe default ordering of the dict is by chronological order. We can resort it to be ordered by distance from the point as follows:\n\n"
      ]
    },
    {
      "cell_type": "code",
      "execution_count": null,
      "metadata": {
        "collapsed": false
      },
      "outputs": [],
      "source": [
        "analogs = basin.analogs_from_point((40.7,-74.0),radius=50)\ndict(sorted(analogs.items(), key=lambda item: item[1]))"
      ]
    },
    {
      "cell_type": "markdown",
      "metadata": {},
      "source": [
        "We can then plot these storms relative to the point using `plot_analogs_from_point`:\n\n"
      ]
    },
    {
      "cell_type": "code",
      "execution_count": null,
      "metadata": {
        "collapsed": false
      },
      "outputs": [],
      "source": [
        "basin.plot_analogs_from_point((40.7,-74.0),radius=50)"
      ]
    },
    {
      "cell_type": "markdown",
      "metadata": {},
      "source": [
        "We can further customize the analogs by adding thresholds by year range, time of year, sustained wind and MSLP.\n\nLet's test this out by expanding the radius to 100 km, adding a minimum sustained wind of 65 kt (i.e., Category 1 hurricane), and from May to October:\n\n"
      ]
    },
    {
      "cell_type": "code",
      "execution_count": null,
      "metadata": {
        "collapsed": false
      },
      "outputs": [],
      "source": [
        "#Print storms\nstorms = basin.analogs_from_point((40.7,-74.0),radius=100,date_range=('5/1','10/1'),thresh={'v_min':65})\nprint(storms)\n\n#Plot storms\nbasin.plot_analogs_from_point((40.7,-74.0),radius=100,date_range=('5/1','10/1'),thresh={'v_min':65})"
      ]
    },
    {
      "cell_type": "markdown",
      "metadata": {},
      "source": [
        "Let's say we want to automatically plot the closest storm to a point that meets our threshold. The below code automates this for any lat/lon coordinate.\n\nThis example is for NYC - feel free to play around with any lat/lon coordinate of your choice!\n\n"
      ]
    },
    {
      "cell_type": "code",
      "execution_count": null,
      "metadata": {
        "collapsed": false
      },
      "outputs": [],
      "source": [
        "point = (40.7,-74.0) #NYC lat/lon\n\n#Retrieve dict of analogs\nanalogs = basin.analogs_from_point(point,radius=100,date_range=('5/1','10/1'),thresh={'v_min':65})\n\n#Sort by ascending value, meaning the first entry is the smallest distance from the point\nanalogs_sorted = sorted(analogs.items(), key=lambda item: item[1])\n\n#Get ID of closest storm, which will be the first item of the first entry of analogs_sorted\nclosest_storm = analogs_sorted[0][0]\n\n#Plot storm\nbasin.plot_storm(closest_storm)"
      ]
    },
    {
      "cell_type": "markdown",
      "metadata": {},
      "source": [
        "Lastly, we can also use a custom domain created by a list of lat/lon coordinate pairs.\n\nThe example below plots all* tropical cyclones that passed through the New Jersey to Long Island coastline between 1950 and 2022, with additional plotting properties of (1) not plotting dots and (2) coloring lines by SSHWS category.\n\n*Note: Tropical cyclone tracks are interpolated to hourly; therefore, a point only counts if its hourly track passed through the specified domain. Note the 1938 \"Long Island Express\" Hurricane doesn't appear below, as it moved at an anomalously fast forward speed.*\n\n"
      ]
    },
    {
      "cell_type": "code",
      "execution_count": null,
      "metadata": {
        "collapsed": false
      },
      "outputs": [],
      "source": [
        "points = [\n    (38.9, -74.7),\n    (39.3, -74.2),\n    (40.4, -73.8),\n    (41.0, -71.8),\n    (41.2, -72.2),\n    (40.8, -73.7),\n    (40.6, -74.3),\n    (39.7, -74.4),\n    (39.0, -74.9)\n]\n\n#Retrieve list of storms that meet this criteria\nstorms = basin.analogs_from_shape(points,year_range=(1950,2022))\nprint(storms)\n\n#Plot storms\nbasin.plot_analogs_from_shape(points,year_range=(1950,2022),prop={'dots':False,'linecolor':'category'})"
      ]
    }
  ],
  "metadata": {
    "kernelspec": {
      "display_name": "Python 3",
      "language": "python",
      "name": "python3"
    },
    "language_info": {
      "codemirror_mode": {
        "name": "ipython",
        "version": 3
      },
      "file_extension": ".py",
      "mimetype": "text/x-python",
      "name": "python",
      "nbconvert_exporter": "python",
      "pygments_lexer": "ipython3",
      "version": "3.11.0"
    }
  },
  "nbformat": 4,
  "nbformat_minor": 0
}