{
  "cells": [
    {
      "cell_type": "markdown",
      "metadata": {},
      "source": [
        "\n# Aircraft Recon Data Analysis\nThis sample script shows how to use Tropycal to retrieve, analyze and plot aircraft reconnaissance missions.\n"
      ]
    },
    {
      "cell_type": "code",
      "execution_count": null,
      "metadata": {
        "collapsed": false
      },
      "outputs": [],
      "source": [
        "from tropycal import tracks, recon\nimport numpy as np\nimport datetime as dt"
      ]
    },
    {
      "cell_type": "markdown",
      "metadata": {},
      "source": [
        "## Reading In Recon Dataset\nThere are several ways of retrieving a ReconDataset object. The first step is to retrieve a TrackDataset object, which for this example we'll use the HURDATv2 database for the North Atlantic basin.\n\n"
      ]
    },
    {
      "cell_type": "code",
      "execution_count": null,
      "metadata": {
        "collapsed": false
      },
      "outputs": [],
      "source": [
        "basin = tracks.TrackDataset('north_atlantic')"
      ]
    },
    {
      "cell_type": "markdown",
      "metadata": {},
      "source": [
        "We'll now retrieve a Storm object for Hurricane Irma (2017), which will be used for this example code.\n\n"
      ]
    },
    {
      "cell_type": "code",
      "execution_count": null,
      "metadata": {
        "collapsed": false
      },
      "outputs": [],
      "source": [
        "storm = basin.get_storm(('Irma',2017))"
      ]
    },
    {
      "cell_type": "markdown",
      "metadata": {},
      "source": [
        "Now that we have a Storm object, there are several ways of retrieving recon data.\n\n1. The first and easiest way is through the Storm object, which already contains an empty instance of ReconDataset stored as an attribute ``storm.recon``. This method will be highlighted in this script. Its methods can then be accessed as ``storm.recon.plot_summary()``, for example.\n\n2. The second method is through retrieving an instance of ReconDataset, providing the storm object as an argument (e.g., ``recon_obj = recon.ReconDataset(storm)``). Its methods can then be accessed as ``recon_obj.plot_summary()``, for example.\n\n3. The individual sub-classes (to be discussed later) can also be created individually of a ReconDataset object, providing the storm object as an argument (e.g., ``dropsondes = recon.dropsondes(storm)``).\n\nFor the rest of this script, we'll be using the first method.\n\n### Recon Sub-Classes\nThe three primary sub-classes of the recon module are:\n\n.. list-table:: \n   :widths: 25 75\n   :header-rows: 1\n\n   * - Class\n     - Description\n   * - hdobs\n     - Class containing all High Density Observations (HDOBs) for this Storm.\n   * - dropsondes\n     - Class containing all dropsondes for this Storm.\n   * - vdms\n     - Class containing all Vortex Data Messages (VDMs) for this Storm.\n\nThe following functionality is used to retrieve data for each sub-class. Each class has a ``to_pickle()`` method, which can be used to save the data once it's been read in as a local pickle file, which can be re-read in later.\n\n"
      ]
    },
    {
      "cell_type": "code",
      "execution_count": null,
      "metadata": {
        "collapsed": false
      },
      "outputs": [],
      "source": [
        "storm.recon.get_vdms()\n#Save pickle file of VDM data (list of dictionaries)\nstorm.recon.vdms.to_pickle(f'{storm.name}{storm.year}_vdms.pickle')\n\nstorm.recon.get_dropsondes()\n#Save pickle file of Dropsonde data (list of dictionaries)\nstorm.recon.dropsondes.to_pickle(f'{storm.name}{storm.year}_dropsondes.pickle')\n\nstorm.recon.get_hdobs()\n#Save pickle file of HDOB data (Pandas dataframe)\nstorm.recon.hdobs.to_pickle(f'{storm.name}{storm.year}_hdobs.pickle')"
      ]
    },
    {
      "cell_type": "markdown",
      "metadata": {},
      "source": [
        "These can be initialized again any time later with the saved pickle files:\n\n>>> storm.recon.get_vdms(f'{storm.name}{storm.year}_vdms.pickle')\n>>> storm.recon.get_dropsondes(f'{storm.name}{storm.year}_dropsondes.pickle')\n>>> storm.recon.get_hdobs(f'{storm.name}{storm.year}_hdobs.pickle')\n\n\n"
      ]
    },
    {
      "cell_type": "markdown",
      "metadata": {},
      "source": [
        "## Visualizing ReconDataset\nPrint the recon object to see a summary of the data in recon from the three objects:\n\n"
      ]
    },
    {
      "cell_type": "code",
      "execution_count": null,
      "metadata": {
        "collapsed": false
      },
      "outputs": [],
      "source": [
        "storm.recon"
      ]
    },
    {
      "cell_type": "markdown",
      "metadata": {},
      "source": [
        "A summary of recon data for this storm can also be plotted:\n\n"
      ]
    },
    {
      "cell_type": "code",
      "execution_count": null,
      "metadata": {
        "collapsed": false
      },
      "outputs": [],
      "source": [
        "storm.recon.plot_summary()"
      ]
    },
    {
      "cell_type": "markdown",
      "metadata": {},
      "source": [
        "Find the mission numbers that were active during a given time, within a distance (in km) from the storm:\n\n"
      ]
    },
    {
      "cell_type": "code",
      "execution_count": null,
      "metadata": {
        "collapsed": false
      },
      "outputs": [],
      "source": [
        "storm.recon.find_mission(dt.datetime(2017,9,7,12), distance=200)"
      ]
    },
    {
      "cell_type": "markdown",
      "metadata": {},
      "source": [
        "Then plot a summary from just that mission:\n\n"
      ]
    },
    {
      "cell_type": "code",
      "execution_count": null,
      "metadata": {
        "collapsed": false
      },
      "outputs": [],
      "source": [
        "storm.recon.plot_summary(mission=17)"
      ]
    },
    {
      "cell_type": "markdown",
      "metadata": {},
      "source": [
        "## High Density Observations (HDOBs)\nThe first class we'll be reviewing is the HDOBs class, which is the largest containing the most data given the high frequency of observations. Let's start by viewing the HDOB summary:\n\n"
      ]
    },
    {
      "cell_type": "code",
      "execution_count": null,
      "metadata": {
        "collapsed": false
      },
      "outputs": [],
      "source": [
        "storm.recon.hdobs"
      ]
    },
    {
      "cell_type": "markdown",
      "metadata": {},
      "source": [
        "And view HDOB Pandas DataFrame data:\n\n"
      ]
    },
    {
      "cell_type": "code",
      "execution_count": null,
      "metadata": {
        "collapsed": false
      },
      "outputs": [],
      "source": [
        "storm.recon.hdobs.data"
      ]
    },
    {
      "cell_type": "markdown",
      "metadata": {},
      "source": [
        "Plot a summary of the recon data for this storm, using peak wind gusts with a custom colormap:\n\n"
      ]
    },
    {
      "cell_type": "code",
      "execution_count": null,
      "metadata": {
        "collapsed": false
      },
      "outputs": [],
      "source": [
        "storm.recon.hdobs.plot_points('pkwnd',prop={'cmap':{1:'dodgerblue',2:'gold',3:'firebrick'},'levels':np.arange(20,161,10)})"
      ]
    },
    {
      "cell_type": "markdown",
      "metadata": {},
      "source": [
        "Plot a hovmoller from recon data interpolated to time and radius - note the eyewall replacement cycles:\n\n"
      ]
    },
    {
      "cell_type": "code",
      "execution_count": null,
      "metadata": {
        "collapsed": false
      },
      "outputs": [],
      "source": [
        "storm.recon.hdobs.plot_hovmoller(varname='pkwnd',prop={'cmap':{1:'dodgerblue',2:'gold',3:'firebrick'},'levels':np.arange(20,161,10)})"
      ]
    },
    {
      "cell_type": "markdown",
      "metadata": {},
      "source": [
        "Plot a map valid at 1200 UTC 6 September 2017 interpolated to time and space:\n\n"
      ]
    },
    {
      "cell_type": "code",
      "execution_count": null,
      "metadata": {
        "collapsed": false
      },
      "outputs": [],
      "source": [
        "time = dt.datetime(2017,9,6,12)\nstorm.recon.hdobs.plot_maps(time=time,varname='pkwnd',prop={'cmap':{1:'dodgerblue',2:'gold',3:'firebrick'},'levels':np.arange(20,161,10)})"
      ]
    },
    {
      "cell_type": "markdown",
      "metadata": {},
      "source": [
        "## Dropsonde Data\nNext we'll take a look at the dropsonde data for Hurricane Irma. First, let's take a look at the dropsonde summary:\n\n"
      ]
    },
    {
      "cell_type": "code",
      "execution_count": null,
      "metadata": {
        "collapsed": false
      },
      "outputs": [],
      "source": [
        "storm.recon.dropsondes"
      ]
    },
    {
      "cell_type": "markdown",
      "metadata": {},
      "source": [
        "Now use the ``sel`` function to subset to only dropsondes released in the eyewall:\n\n"
      ]
    },
    {
      "cell_type": "code",
      "execution_count": null,
      "metadata": {
        "collapsed": false
      },
      "outputs": [],
      "source": [
        "storm.recon.dropsondes.sel(location='eyewall')"
      ]
    },
    {
      "cell_type": "markdown",
      "metadata": {},
      "source": [
        "We can view data from one of the dropsondes by using the ``isel`` method to select a dropsonde number:\n\n"
      ]
    },
    {
      "cell_type": "code",
      "execution_count": null,
      "metadata": {
        "collapsed": false
      },
      "outputs": [],
      "source": [
        "storm.recon.dropsondes.sel(location='eyewall').isel(23).data"
      ]
    },
    {
      "cell_type": "markdown",
      "metadata": {},
      "source": [
        "Select one of the eyewall dropsondes and plot the Skew-T:\n\n"
      ]
    },
    {
      "cell_type": "code",
      "execution_count": null,
      "metadata": {
        "collapsed": false
      },
      "outputs": [],
      "source": [
        "storm.recon.dropsondes.sel(location='eyewall').isel(23).plot_skewt()"
      ]
    },
    {
      "cell_type": "markdown",
      "metadata": {},
      "source": [
        "Plot a map of dropsonde points colored by 850mb temperature:\n\n"
      ]
    },
    {
      "cell_type": "code",
      "execution_count": null,
      "metadata": {
        "collapsed": false
      },
      "outputs": [],
      "source": [
        "storm.recon.dropsondes.plot_points('temp',level=850,prop={'cmap':{1:'dodgerblue',2:'gold',3:'firebrick'},'ms':20})"
      ]
    },
    {
      "cell_type": "markdown",
      "metadata": {},
      "source": [
        "Plot a map of only upper-air dropsondes released at 300mb and above, colored by wind speed at 300mb:\n\n"
      ]
    },
    {
      "cell_type": "code",
      "execution_count": null,
      "metadata": {
        "collapsed": false
      },
      "outputs": [],
      "source": [
        "storm.recon.dropsondes.sel(top=(None,300)).plot_points('wspd',level=300,prop={'cmap':{1:'dodgerblue',2:'gold',3:'firebrick'},'ms':20})"
      ]
    },
    {
      "cell_type": "markdown",
      "metadata": {},
      "source": [
        "## Vortex Data Messages (VDMs)\nThe last class we'll look at is the VDM class. Let's start off by viewing a summary of VDM data for Hurricane Irma:\n\n"
      ]
    },
    {
      "cell_type": "code",
      "execution_count": null,
      "metadata": {
        "collapsed": false
      },
      "outputs": [],
      "source": [
        "storm.recon.vdms"
      ]
    },
    {
      "cell_type": "markdown",
      "metadata": {},
      "source": [
        "Let's look at decoded VDMs for a specific pass:\n\n"
      ]
    },
    {
      "cell_type": "code",
      "execution_count": null,
      "metadata": {
        "collapsed": false
      },
      "outputs": [],
      "source": [
        "storm.recon.vdms.isel(10).data"
      ]
    },
    {
      "cell_type": "markdown",
      "metadata": {},
      "source": [
        "Plot a map of VDM center location, colored by minimum pressure (default):\n\n"
      ]
    },
    {
      "cell_type": "code",
      "execution_count": null,
      "metadata": {
        "collapsed": false
      },
      "outputs": [],
      "source": [
        "storm.recon.vdms.plot_points(prop={'cmap':{3:'dodgerblue',2:'gold',1:'firebrick'},'ms':40})"
      ]
    }
  ],
  "metadata": {
    "kernelspec": {
      "display_name": "Python 3",
      "language": "python",
      "name": "python3"
    },
    "language_info": {
      "codemirror_mode": {
        "name": "ipython",
        "version": 3
      },
      "file_extension": ".py",
      "mimetype": "text/x-python",
      "name": "python",
      "nbconvert_exporter": "python",
      "pygments_lexer": "ipython3",
      "version": "3.11.0"
    }
  },
  "nbformat": 4,
  "nbformat_minor": 0
}