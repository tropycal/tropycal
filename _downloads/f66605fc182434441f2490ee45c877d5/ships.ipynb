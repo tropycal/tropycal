{
  "cells": [
    {
      "cell_type": "markdown",
      "metadata": {},
      "source": [
        "\n# Reading SHIPS Data\nThis sample script illustrates how to leverage Tropycal's SHIPS reading capability.\n"
      ]
    },
    {
      "cell_type": "code",
      "execution_count": null,
      "metadata": {
        "collapsed": false
      },
      "outputs": [],
      "source": [
        "import json\nimport datetime as dt\nimport matplotlib.pyplot as plt\nfrom tropycal import tracks"
      ]
    },
    {
      "cell_type": "markdown",
      "metadata": {},
      "source": [
        "## Reading In HURTDAT2 Dataset\n\nLet's start with the HURDAT2 dataset by loading it into memory. By default, this reads in the HURDAT dataset from the National Hurricane Center (NHC) website, unless you specify a local file path using either ``atlantic_url`` for the North Atlantic basin on ``pacific_url`` for the East & Central Pacific basin.\n\nHURDAT data is not available for the current year. To include the latest data up through today, the \"include_btk\" flag needs to be set to True, which reads in preliminary best track data from the NHC website. For this example, we'll set this to False.\n\nLet's create an instance of a TrackDataset object, which will store the North Atlantic HURDAT2 dataset in memory. Once we have this we can use its methods for various types of analyses.\n\n"
      ]
    },
    {
      "cell_type": "code",
      "execution_count": null,
      "metadata": {
        "collapsed": false
      },
      "outputs": [],
      "source": [
        "basin = tracks.TrackDataset(basin='north_atlantic',include_btk=False)"
      ]
    },
    {
      "cell_type": "markdown",
      "metadata": {},
      "source": [
        "## Reading in SHIPS data\nSHIPS data can be read either using the standalone ``ships.Ships`` class by providing the SHIPS text data, or via Storm objects. The more conventional method is via Storm objects, as this automatically locates the SHIPS text files from UCAR's online archive dating back to 2011.\n\nLet's retrieve an instance of Hurricane Ida from 2021 for our example:\n\n"
      ]
    },
    {
      "cell_type": "code",
      "execution_count": null,
      "metadata": {
        "collapsed": false
      },
      "outputs": [],
      "source": [
        "storm = basin.get_storm(('ida',2021))"
      ]
    },
    {
      "cell_type": "markdown",
      "metadata": {},
      "source": [
        "Next, let's search for times where SHIPS forecasts are available:\n\n"
      ]
    },
    {
      "cell_type": "code",
      "execution_count": null,
      "metadata": {
        "collapsed": false
      },
      "outputs": [],
      "source": [
        "available_times = storm.search_ships()\n\nfor time in available_times:\n    print(time)"
      ]
    },
    {
      "cell_type": "markdown",
      "metadata": {},
      "source": [
        "Now that we know what times are available, let's use the SHIPS forecast from 1800 UTC 27 August 2021. The following line retrieves an instance of a Ships object and stores it in the variable ``ships``:\n\n"
      ]
    },
    {
      "cell_type": "code",
      "execution_count": null,
      "metadata": {
        "collapsed": false
      },
      "outputs": [],
      "source": [
        "ships = storm.get_ships(dt.datetime(2021, 8, 27, 18))"
      ]
    },
    {
      "cell_type": "markdown",
      "metadata": {},
      "source": [
        "We now have a Ships object containing the forecast initialized at this time. Let's peek at our Ships object:\n\n"
      ]
    },
    {
      "cell_type": "code",
      "execution_count": null,
      "metadata": {
        "collapsed": false
      },
      "outputs": [],
      "source": [
        "print(ships)"
      ]
    },
    {
      "cell_type": "markdown",
      "metadata": {},
      "source": [
        "## Retrieving Data\n\nThere's a lot of data in this object, as SHIPS files provide a lot of variables over many forecast hours. If we want data only valid at a specific forecast hour, we can use the following method:\n\n"
      ]
    },
    {
      "cell_type": "code",
      "execution_count": null,
      "metadata": {
        "collapsed": false
      },
      "outputs": [],
      "source": [
        "output_dict = ships.get_snapshot(hour=48)\n\n# Format nicely for documentation purposes\nprint(json.dumps(output_dict, indent=4))"
      ]
    },
    {
      "cell_type": "markdown",
      "metadata": {},
      "source": [
        "We can also fetch the rapid intensification probabilities that SHIPS provides:\n\n"
      ]
    },
    {
      "cell_type": "code",
      "execution_count": null,
      "metadata": {
        "collapsed": false
      },
      "outputs": [],
      "source": [
        "output_dict = ships.get_ri_prob()\n\n# Format nicely for documentation purposes\nprint(json.dumps(output_dict, indent=4))"
      ]
    },
    {
      "cell_type": "markdown",
      "metadata": {},
      "source": [
        "Ships objects also allow us to convert data to other formats, such as xarray Datasets:\n\n"
      ]
    },
    {
      "cell_type": "code",
      "execution_count": null,
      "metadata": {
        "collapsed": false
      },
      "outputs": [],
      "source": [
        "ds = ships.to_xarray()\nprint(ds)"
      ]
    },
    {
      "cell_type": "markdown",
      "metadata": {},
      "source": [
        "## Visualizing Data\n\nTropycal's Ships class comes with a built-in function to plot a basic summary of the SHIPS forecast and key diagnostics. We can use it as follows:\n\n"
      ]
    },
    {
      "cell_type": "code",
      "execution_count": null,
      "metadata": {
        "collapsed": false
      },
      "outputs": [],
      "source": [
        "ships.plot_summary()"
      ]
    },
    {
      "cell_type": "markdown",
      "metadata": {},
      "source": [
        "Let's say we want to make a plot of several metrics that affect a storm's intensity:\n\n"
      ]
    },
    {
      "cell_type": "code",
      "execution_count": null,
      "metadata": {
        "collapsed": false
      },
      "outputs": [],
      "source": [
        "# Create figure\nfig,ax = plt.subplots(figsize=(9,6), dpi=200)\nax.set_facecolor('#f6f6f6')\nax.grid()\n\n# Plot variables\nax.plot(ships.fhr, ships.shear_kt, color='blue', label='Shear (kt)')\nax.plot(ships.fhr, ships.sst_c, color='red', label='SSTs (C)')\nax.plot(ships.fhr, ships['700_500_rh'], color='green', label='700-500mb RH (%)')\nax.set_ylabel('Shear, SST, RH')\n\n# Add twin axes for wind speed\nax2 = ax.twinx()\nax2.plot(ships.fhr, ships.vmax_land_kt, color='k', linewidth=2.5)\nax2.set_ylabel('Wind Speed (kt)')\n\n# Format and label x-axis\nax.set_xticks(range(0,ships.fhr[-1]+1,24))\nax.set_xlabel('Forecast Hour')\n\n# Add legend and title\nax.legend()\nax.set_title(f\"SHIPS Forecast for {ships.attrs['storm_name']}\",\n             loc='left', fontsize=14, fontweight='bold')\nax.set_title(f\"Initialized: {ships.attrs['forecast_init'].strftime('%H%M UTC %d %b %Y')}\",\n             loc='right', fontsize=10)"
      ]
    }
  ],
  "metadata": {
    "kernelspec": {
      "display_name": "Python 3",
      "language": "python",
      "name": "python3"
    },
    "language_info": {
      "codemirror_mode": {
        "name": "ipython",
        "version": 3
      },
      "file_extension": ".py",
      "mimetype": "text/x-python",
      "name": "python",
      "nbconvert_exporter": "python",
      "pygments_lexer": "ipython3",
      "version": "3.11.0"
    }
  },
  "nbformat": 4,
  "nbformat_minor": 0
}