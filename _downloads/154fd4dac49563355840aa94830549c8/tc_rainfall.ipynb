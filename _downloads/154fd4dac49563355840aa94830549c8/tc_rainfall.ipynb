{
  "cells": [
    {
      "cell_type": "markdown",
      "metadata": {},
      "source": [
        "\n# Tropical Cyclone Rainfall\nThis sample script shows how to use Tropycal to retrieve and plot rainfall associated with U.S. tropical cyclones, from the Weather Prediction Center (WPC)'s database.\n"
      ]
    },
    {
      "cell_type": "code",
      "execution_count": null,
      "metadata": {
        "collapsed": false
      },
      "outputs": [],
      "source": [
        "from tropycal import tracks, rain"
      ]
    },
    {
      "cell_type": "markdown",
      "metadata": {},
      "source": [
        "## Reading In HURTDAT2 Dataset\n\nLet's start with the HURDAT2 dataset by loading it into memory. By default, this reads in the HURDAT dataset from the National Hurricane Center (NHC) website, unless you specify a local file path using either ``atlantic_url`` for the North Atlantic basin on ``pacific_url`` for the East & Central Pacific basin.\n\nHURDAT data is not available for the current year. To include the latest data up through today, the \"include_btk\" flag needs to be set to True, which reads in preliminary best track data from the NHC website. For this example, we'll set this to False.\n\nLet's create an instance of a TrackDataset object, which will store the North Atlantic HURDAT2 dataset in memory. Once we have this we can use its methods for various types of analyses.\n\n"
      ]
    },
    {
      "cell_type": "code",
      "execution_count": null,
      "metadata": {
        "collapsed": false
      },
      "outputs": [],
      "source": [
        "basin = tracks.TrackDataset(basin='north_atlantic',include_btk=False)"
      ]
    },
    {
      "cell_type": "markdown",
      "metadata": {},
      "source": [
        "## WPC Rainfall Dataset\n\nNext, we'll read in rainfall associated with tropical cyclones. Tropical cyclones are known to produce heavy rainfall, with at times catastrophic flooding. The Weather Prediction Center (WPC) routinely issues advisories on tropical cyclones or their remnants inland, and maintains a database of rainfall associated with tropical cyclones in the US.\n\nThis dataset is now available in CSV format, and can be easily read into Tropycal using the new Rain module:\n\n"
      ]
    },
    {
      "cell_type": "code",
      "execution_count": null,
      "metadata": {
        "collapsed": false
      },
      "outputs": [],
      "source": [
        "rain_obj = rain.RainDataset()"
      ]
    },
    {
      "cell_type": "markdown",
      "metadata": {},
      "source": [
        "Hurricane Harvey (2017) produced catastrophic flooding over Texas. Let's pull its rain observations to take a deeper look.\n\nTo do so, we'll first need to retrieve a Storm object for Harvey, then provide it as an input argument to ``get_storm_rainfall()``. This will return a Pandas DataFrame containing all rainfall observations associated with Harvey.\n\n"
      ]
    },
    {
      "cell_type": "code",
      "execution_count": null,
      "metadata": {
        "collapsed": false
      },
      "outputs": [],
      "source": [
        "#Retrieve storm object\nstorm = basin.get_storm(('harvey',2017))\n\n#Retrieve storm rainfall\nharvey_rain = rain_obj.get_storm_rainfall(storm)"
      ]
    },
    {
      "cell_type": "markdown",
      "metadata": {},
      "source": [
        "Now let's look through the pandas DataFrame containing Harvey's rainfall:\n\n"
      ]
    },
    {
      "cell_type": "code",
      "execution_count": null,
      "metadata": {
        "collapsed": false
      },
      "outputs": [],
      "source": [
        "harvey_rain"
      ]
    },
    {
      "cell_type": "markdown",
      "metadata": {},
      "source": [
        "We can use Pandas' DataFrame utility to rearrange this by the \"Total\" column (representing rainfall in inches) to see the highest rain total associated with Harvey - which gives us 60.58 inches near Nederland.\n\n"
      ]
    },
    {
      "cell_type": "code",
      "execution_count": null,
      "metadata": {
        "collapsed": false
      },
      "outputs": [],
      "source": [
        "harvey_rain.sort_values('Total',ascending=False)"
      ]
    },
    {
      "cell_type": "markdown",
      "metadata": {},
      "source": [
        "More generically speaking, we can write the code below to retrieve the row with the maximum rainfall for the storm, then retrieve its rain total in inches, station name, and coordinates.\n\n"
      ]
    },
    {
      "cell_type": "code",
      "execution_count": null,
      "metadata": {
        "collapsed": false
      },
      "outputs": [],
      "source": [
        "import numpy as np\n\nrow = harvey_rain.loc[harvey_rain['Total'] == np.nanmax(harvey_rain['Total'])]\n\nprint(f\"Max Rainfall = {row['Total'].values[0]} Inches\")\nprint(f\"Location = {row['Station'].values[0]}\")\nprint(f\"Latitude = {row['Lat'].values[0]}\")\nprint(f\"Longitude = {row['Lon'].values[0]}\")"
      ]
    },
    {
      "cell_type": "markdown",
      "metadata": {},
      "source": [
        "## Plotting TC Rainfall\nTropycal provides two methods to plot tropical cyclone rainfall: by grid, or by individual observations.\n\nWe'll start off with plotting gridded rainfall. First we'll need to interpolate to a cartesian grid using the ``interpolate_to_grid()`` method, and retrieve an xarray DataArray of the grid and its associated coordinates. Note that the default is to interpolate to a 0.1 degree grid - you can use the ``grid_res`` argument to provide a different resolution.\n\nNext we'll use the ``plot_rain_grid()`` method to plot the output, and provide contour levels for plotting. As Hurricane Harvey was most damaging in Texas, we'll provide a custom domain zoomed in over Texas.\n\n"
      ]
    },
    {
      "cell_type": "code",
      "execution_count": null,
      "metadata": {
        "collapsed": false
      },
      "outputs": [],
      "source": [
        "#Interpolate to grid\ngrid = rain_obj.interpolate_to_grid(storm,return_xarray=True)\n\nlevels = [1,2,4,8,12,16,20,30,40,50,60]\nrain_obj.plot_rain_grid(storm,grid,levels,domain={'s':26,'n':39,'w':-103,'e':-82})"
      ]
    },
    {
      "cell_type": "markdown",
      "metadata": {},
      "source": [
        "Linear interpolation isn't perfect of course, especially considering that some observations in this dataset aren't perfectly quality controlled.\n\nTo compensate, we can also plot the individual rain observation dots using the ``plot_rain()`` method:\n\n"
      ]
    },
    {
      "cell_type": "code",
      "execution_count": null,
      "metadata": {
        "collapsed": false
      },
      "outputs": [],
      "source": [
        "levels = [1,2,4,8,12,16,20,30,40,50,60]\nrain_obj.plot_rain(storm,levels=levels,domain={'s':26,'n':39,'w':-103,'e':-82})"
      ]
    },
    {
      "cell_type": "markdown",
      "metadata": {},
      "source": [
        "The Houston, Texas metro was particularly hard-hit by Hurricane Harvey, with rain totals over 30 inches in many locations.\n\nLet's filter the plot to only rain observations over 30 inches to highlight this, while zooming in closer over Houston:\n\n"
      ]
    },
    {
      "cell_type": "code",
      "execution_count": null,
      "metadata": {
        "collapsed": false
      },
      "outputs": [],
      "source": [
        "levels = [1,2,4,8,12,16,20,30,40,50,60]\nrain_obj.plot_rain(storm,levels=levels,minimum_threshold=30,domain={'s':27,'n':32,'w':-99,'e':-92})"
      ]
    }
  ],
  "metadata": {
    "kernelspec": {
      "display_name": "Python 3",
      "language": "python",
      "name": "python3"
    },
    "language_info": {
      "codemirror_mode": {
        "name": "ipython",
        "version": 3
      },
      "file_extension": ".py",
      "mimetype": "text/x-python",
      "name": "python",
      "nbconvert_exporter": "python",
      "pygments_lexer": "ipython3",
      "version": "3.11.0"
    }
  },
  "nbformat": 4,
  "nbformat_minor": 0
}