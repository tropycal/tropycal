{
  "cells": [
    {
      "cell_type": "markdown",
      "metadata": {},
      "source": [
        "\n# Standalone Cartopy Functionality\nThis sample script illustrates how to leverage Tropycal's standalone Cartopy functionality alongside its existing data structures to make custom plots and analyses.\n"
      ]
    },
    {
      "cell_type": "code",
      "execution_count": null,
      "metadata": {
        "collapsed": false
      },
      "outputs": [],
      "source": [
        "import datetime as dt\nfrom tropycal import tracks, utils\nimport cartopy.crs as ccrs\nimport cartopy.feature as cfeature\nimport matplotlib.pyplot as plt"
      ]
    },
    {
      "cell_type": "markdown",
      "metadata": {},
      "source": [
        "## Reading In HURTDAT2 Dataset\n\nLet's start with the HURDAT2 dataset by loading it into memory. By default, this reads in the HURDAT dataset from the National Hurricane Center (NHC) website, unless you specify a local file path using either ``atlantic_url`` for the North Atlantic basin on ``pacific_url`` for the East & Central Pacific basin.\n\nHURDAT data is not available for the current year. To include the latest data up through today, the \"include_btk\" flag needs to be set to True, which reads in preliminary best track data from the NHC website. For this example, we'll set this to False.\n\nLet's create an instance of a TrackDataset object, which will store the North Atlantic HURDAT2 dataset in memory. Once we have this we can use its methods for various types of analyses.\n\n"
      ]
    },
    {
      "cell_type": "code",
      "execution_count": null,
      "metadata": {
        "collapsed": false
      },
      "outputs": [],
      "source": [
        "basin = tracks.TrackDataset(basin='north_atlantic',include_btk=False)"
      ]
    },
    {
      "cell_type": "markdown",
      "metadata": {},
      "source": [
        "## Reading in storm data\nIndividual storms can be retrieved from the dataset by calling the ``get_storm()`` function, which returns an instance of a Storm object. This can be done by either entering a tuple containing the storm name and year, or by the standard tropical cyclone ID (e.g., \"AL012019\").\n\nLet's retrieve an instance of Hurricane Michael from 2018:\n\n"
      ]
    },
    {
      "cell_type": "code",
      "execution_count": null,
      "metadata": {
        "collapsed": false
      },
      "outputs": [],
      "source": [
        "storm = basin.get_storm(('michael',2018))"
      ]
    },
    {
      "cell_type": "markdown",
      "metadata": {},
      "source": [
        "We now have a Storm object, containing information about its track and intensity data, as well as various methods for subsetting and analyzing it.\n\n"
      ]
    },
    {
      "cell_type": "code",
      "execution_count": null,
      "metadata": {
        "collapsed": false
      },
      "outputs": [],
      "source": [
        "print(storm)"
      ]
    },
    {
      "cell_type": "markdown",
      "metadata": {},
      "source": [
        "## Basic Cartopy plot\n\nLet's make a basic Cartopy map focused over the Gulf of Mexico, with geographic boundaries denoted and land filled in light gray. We'll add Cartopy utility to this plot in later steps.\n\n"
      ]
    },
    {
      "cell_type": "code",
      "execution_count": null,
      "metadata": {
        "collapsed": false
      },
      "outputs": [],
      "source": [
        "# Create a PlateCarree Cartopy projection\nproj = ccrs.PlateCarree()\n\n# Create an instance of figure and axes\nfig = plt.figure(figsize=(9,6),dpi=200)\nax = plt.axes(projection=proj)\n\n# Plot coastlines and political boundaries\nax.add_feature(cfeature.STATES.with_scale('50m'), linewidths=0.5, linestyle='solid', edgecolor='k')\nax.add_feature(cfeature.BORDERS.with_scale('50m'), linewidths=1.0, linestyle='solid', edgecolor='k')\nax.add_feature(cfeature.COASTLINE.with_scale('50m'), linewidths=1.0, linestyle='solid', edgecolor='k')\n\n# Fill in continents in light gray\nax.add_feature(cfeature.LAND.with_scale('50m'), facecolor='#EEEEEE', edgecolor='face')\n\n# Zoom in over the Gulf Coast\nax.set_extent([-100,-70,18,37])"
      ]
    },
    {
      "cell_type": "markdown",
      "metadata": {},
      "source": [
        "## Applying Tropycal standalone Cartopy utility\n\nIn order to apply Tropycal's standalone Cartopy plotting utility to an existing matplotlib axes with a Cartopy projection appended to it, simply use the function ``ax = utils.add_tropycal(ax)``, which appends the following functions to a Cartopy axes:\n\n- ``ax.plot_storm()`` - Plot a Storm object on an existing axes\n- ``ax.plot_two()`` - Plot a Tropical Weather Outlook (TWO) on an existing axes\n- ``ax.plot_cone()`` - Plot a Tropycal generated cone of uncertainty on an existing axes\n\nThe next few sections will walk through examples for these functions.\n\n"
      ]
    },
    {
      "cell_type": "markdown",
      "metadata": {},
      "source": [
        "## Plotting Storm objects\n\nLet's go back to the Storm object for Hurricane Michael that we previously retrieved. Let's make a simple plot of it using ``plot_storm()``. This function behaaves identically to matplotlib's standard ``ax.plot()`` function, except that instead of longitude and latitude coordinates (i.e., x and y), we provide the Storm object.\n\nBefore we make any new plots, let's define a function to plot boundaries so we don't have to repeatedly type the same lines each time:\n\n"
      ]
    },
    {
      "cell_type": "code",
      "execution_count": null,
      "metadata": {
        "collapsed": false
      },
      "outputs": [],
      "source": [
        "def plot_boundaries(ax):\n    \"\"\"This function plots geographic and political boundaries on the provided axes.\"\"\"\n    \n    # Plot coastlines and political boundaries\n    ax.add_feature(cfeature.STATES.with_scale('50m'), linewidths=0.5, linestyle='solid', edgecolor='k')\n    ax.add_feature(cfeature.BORDERS.with_scale('50m'), linewidths=1.0, linestyle='solid', edgecolor='k')\n    ax.add_feature(cfeature.COASTLINE.with_scale('50m'), linewidths=1.0, linestyle='solid', edgecolor='k')\n\n    # Fill in continents in light gray\n    ax.add_feature(cfeature.LAND.with_scale('50m'), facecolor='#EEEEEE', edgecolor='face')\n\n    # Return axes instance\n    return ax"
      ]
    },
    {
      "cell_type": "markdown",
      "metadata": {},
      "source": [
        "Now let's make another plot of the Gulf of Mexico, with Hurricane Michael's track colored in a solid black line, and individual observations plotted in blue dots:\n\n"
      ]
    },
    {
      "cell_type": "code",
      "execution_count": null,
      "metadata": {
        "collapsed": false
      },
      "outputs": [],
      "source": [
        "# Create an instance of figure and axes\nfig = plt.figure(figsize=(9,6),dpi=200)\nax = plt.axes(projection=proj) # We already defined \"proj\" earlier, so no need to redefine it\nax = plot_boundaries(ax)\n\n# Append Tropycal functionality to this axes\nax = utils.add_tropycal(ax)\n\n# Plot Hurricane Michael's track line\nax.plot_storm(storm, color='k', linewidth=1.5)\n\n# Plot storm dots in blue\nax.plot_storm(storm, 'o', ms=8, mfc='blue', mec='none')\n\n# Zoom in over the Gulf Coast\nax.set_extent([-100,-70,18,37])\n\n# Add title\nax.set_title(\"Hurricane Michael (2018) Track\")"
      ]
    },
    {
      "cell_type": "markdown",
      "metadata": {},
      "source": [
        "Let's say we want to plot the portion where Michael was a hurricane in a different color, and where it was a non-tropical cyclone in a dashed black line. We can use subsetted Storm objects to accomplish this:\n\n"
      ]
    },
    {
      "cell_type": "code",
      "execution_count": null,
      "metadata": {
        "collapsed": false
      },
      "outputs": [],
      "source": [
        "# Create an instance of figure and axes\nfig = plt.figure(figsize=(9,6),dpi=200)\nax = plt.axes(projection=proj)\nax = plot_boundaries(ax)\n\n# Append Tropycal functionality to this axes\nax = utils.add_tropycal(ax)\n\n# Plot Hurricane Michael's track line\nax.plot_storm(storm, color='k', linewidth=1.5)\n\n# ------------------------------------------------------------------\n\n# Find all segments where Michael was a hurricane\ndef find_hurricane_segments(storm):\n    \n    # Create empty list to store data\n    data = []\n    \n    # Loop over all times\n    for i, i_time in enumerate(storm.time):\n        if i == 0: continue\n        \n        # Find where hurricane segment began\n        if storm.vmax[i] >= 64 and storm.vmax[i-1] < 64:\n            data.append([i_time])\n        \n        # Find where hurricane segment ended\n        elif storm.vmax[i] < 64 and storm.vmax[i-1] >= 64:\n            data[-1].append(storm.time[i-1])\n        \n    #Return output\n    return data\n\nsegments = find_hurricane_segments(storm)\n\n# Subset the storm for each segment it was a hurricane, and plot a red line\nfor segment in segments:\n    \n    # Subset storm object\n    storm_subset = storm.sel(time=(segment[0],segment[1]))\n\n    # Plot segment in red\n    ax.plot_storm(storm_subset, color='r', linewidth=2.0)\n\n# ------------------------------------------------------------------\n\n# Subset storm to the portion where it was a tropical cyclone\nstorm_tc = storm.sel(stormtype=['SD','SS','TD','TS','HU'])\n\n# Plot storm dots only where Michael was a tropical cyclone\nax.plot_storm(storm_tc, 'o', ms=8, mfc='blue', mec='none')\n\n# ------------------------------------------------------------------\n\n# Zoom in over the Gulf Coast\nax.set_extent([-100,-70,18,37])\n\n# Add title\nax.set_title(\"Hurricane Michael (2018) Track\")"
      ]
    },
    {
      "cell_type": "markdown",
      "metadata": {},
      "source": [
        "## Plotting Tropical Weather Outlooks\n\nWe can also use Tropycal's standalone plotting functionality to plot Tropical Weather Outlooks (TWOs) on an existing axes. First, let's retrieve a TWO from a past date (e.g., 0600 UTC 19 June 2023):\n\n"
      ]
    },
    {
      "cell_type": "code",
      "execution_count": null,
      "metadata": {
        "collapsed": false
      },
      "outputs": [],
      "source": [
        "requested_time = dt.datetime(2023,6,19,6)\n\ntwo = utils.get_two_archive(time = requested_time)"
      ]
    },
    {
      "cell_type": "markdown",
      "metadata": {},
      "source": [
        "Now we can plot this TWO on the axes with a North Atlantic projection. For this example we'll use the default configuration, but the documentation offers more information on how to vary transparency, linewidth and zorder on the plot.\n\n"
      ]
    },
    {
      "cell_type": "code",
      "execution_count": null,
      "metadata": {
        "collapsed": false
      },
      "outputs": [],
      "source": [
        "# Create an instance of figure and axes\nfig = plt.figure(figsize=(9,6),dpi=200)\nax = plt.axes(projection=proj) # We already defined \"proj\" earlier, so no need to redefine it\nax = plot_boundaries(ax)\n\n# Append Tropycal functionality to this axes\nax = utils.add_tropycal(ax)\n\n# Plot TWO on this axes\nax.plot_two(two)\n\n# Zoom in over the North Atlantic basin\nax.set_extent([-100,-10,0,50])\n\n# Add title\nax.set_title(f\"{requested_time.strftime('%H%M UTC %d %b %Y')} NHC Tropical Weather Outlook\")"
      ]
    },
    {
      "cell_type": "markdown",
      "metadata": {},
      "source": [
        "## Plotting Cone of Uncertainty\n\nWe can use this functionality to plot a cone of uncertainty generated from ``utils.generate_nhc_cone()``. Let's generate a cone of uncertainty for Hurricane Ian from 2022:\n\n"
      ]
    },
    {
      "cell_type": "code",
      "execution_count": null,
      "metadata": {
        "collapsed": false
      },
      "outputs": [],
      "source": [
        "# Retrieve Hurricane Ian\nstorm = basin.get_storm(('ian',2022))\n\n# Retrieve desired forecast\nrequested_time = dt.datetime(2022, 9, 27, 0)\n\n#Create cone dict using default settings\ncone = utils.generate_nhc_cone(\n    forecast = storm.get_nhc_forecast_dict(requested_time),\n    basin = 'north_atlantic',\n    cone_days = 5,\n    return_xarray = True,\n)"
      ]
    },
    {
      "cell_type": "markdown",
      "metadata": {},
      "source": [
        "We can now plot its track leading up to the requested time, and its cone of uncertainty and associated center line:\n\n"
      ]
    },
    {
      "cell_type": "code",
      "execution_count": null,
      "metadata": {
        "collapsed": false
      },
      "outputs": [],
      "source": [
        "# Create an instance of figure and axes\nfig = plt.figure(figsize=(9,6),dpi=200)\nax = plt.axes(projection=proj) # We already defined \"proj\" earlier, so no need to redefine it\nax = plot_boundaries(ax)\n\n# Append Tropycal functionality to this axes\nax = utils.add_tropycal(ax)\n\n# Plot observed storm track up to the requested time\nstorm_subset = storm.sel(time=(storm.time[0],requested_time))\nax.plot_storm(storm_subset, color='k', linestyle='dotted')\n\n# Plot Hurricane Ian's forecast\nax.plot_cone(cone = cone,\n             fillcolor = 'red',\n             alpha = 0.3,\n             plot_center_line = True,\n             center_linecolor = 'blue',\n             center_linestyle = 'dashed')\n\n# Plot dot over Ian's location at this time\nax.plot(storm_subset.lon[-1], storm_subset.lat[-1], 'o',\n        mfc='k', mec='none', ms=12, transform=ccrs.PlateCarree())\n\n# Zoom in over the Gulf Coast\nax.set_extent([-100,-70,18,37])\n\n# Add title\nax.set_title(\"Hurricane Ian (2022) NHC Forecast Cone\", loc='left', fontsize=12)\nax.set_title(f\"Forecast Issued: {requested_time.strftime('%H%M UTC %d %b %Y')}\", loc='right', fontsize=10)"
      ]
    }
  ],
  "metadata": {
    "kernelspec": {
      "display_name": "Python 3",
      "language": "python",
      "name": "python3"
    },
    "language_info": {
      "codemirror_mode": {
        "name": "ipython",
        "version": 3
      },
      "file_extension": ".py",
      "mimetype": "text/x-python",
      "name": "python",
      "nbconvert_exporter": "python",
      "pygments_lexer": "ipython3",
      "version": "3.11.0"
    }
  },
  "nbformat": 4,
  "nbformat_minor": 0
}